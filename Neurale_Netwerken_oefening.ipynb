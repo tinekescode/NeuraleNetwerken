{
  "nbformat": 4,
  "nbformat_minor": 0,
  "metadata": {
    "colab": {
      "provenance": [],
      "authorship_tag": "ABX9TyMOJv1KE5NYeKGnIbZqPtrp",
      "include_colab_link": true
    },
    "kernelspec": {
      "name": "python3",
      "display_name": "Python 3"
    },
    "language_info": {
      "name": "python"
    }
  },
  "cells": [
    {
      "cell_type": "markdown",
      "metadata": {
        "id": "view-in-github",
        "colab_type": "text"
      },
      "source": [
        "<a href=\"https://colab.research.google.com/github/tinekescode/NeuraleNetwerken/blob/main/Neurale_Netwerken_oefening.ipynb\" target=\"_parent\"><img src=\"https://colab.research.google.com/assets/colab-badge.svg\" alt=\"Open In Colab\"/></a>"
      ]
    },
    {
      "cell_type": "markdown",
      "source": [
        "# Neurale Netwerken\n",
        "\n",
        "Wat je leert in deze cursus:\n",
        "1. Hoe je packages moet installeren\n",
        "2. Basis python concepten\n",
        "3. Inladen en onderzoeken van een dataset\n",
        "4. Hoe de dataset eruit ziet die we gaan gebruiken\n",
        "5. Hoe bouw ik een Neuraal Netwerk\n",
        "6. Train het netwerk op onze dataset en test of het werkt\n",
        "\n",
        "## 1. Packages installeren"
      ],
      "metadata": {
        "id": "S3NDd9l7jljI"
      }
    },
    {
      "cell_type": "code",
      "execution_count": 4,
      "metadata": {
        "colab": {
          "base_uri": "https://localhost:8080/"
        },
        "id": "u1UCAyiPi5T1",
        "outputId": "d09b48e0-b327-40da-ff47-66699bd789db"
      },
      "outputs": [
        {
          "output_type": "stream",
          "name": "stdout",
          "text": [
            "All packages imported successfully!\n"
          ]
        }
      ],
      "source": [
        "# Uncomment these lines if you're in Google Colab or don't have packages installed:\n",
        "# !pip install numpy\n",
        "# !pip install matplotlib\n",
        "# !pip install scikit-learn\n",
        "# !pip install seaborn\n",
        "# !pip install pandas\n",
        "\n",
        "# If you see any errors above, that's normal - it means the packages are already installed.\n",
        "\n",
        "# Basic math and data handling\n",
        "import numpy as np              # For mathematical operations\n",
        "import pandas as pd            # For data manipulation (like Excel for Python)\n",
        "import matplotlib.pyplot as plt # For creating graphs and charts\n",
        "import seaborn as sns          # For beautiful statistical plots\n",
        "\n",
        "# Machine learning tools\n",
        "from sklearn.datasets import load_iris\n",
        "from sklearn.model_selection import train_test_split\n",
        "from sklearn.preprocessing import StandardScaler\n",
        "from sklearn.metrics import accuracy_score, classification_report, confusion_matrix\n",
        "\n",
        "# Make plots appear in the notebook\n",
        "%matplotlib inline\n",
        "\n",
        "# Set random seed for reproducible results\n",
        "np.random.seed(42)\n",
        "\n",
        "print(\"All packages imported successfully!\")"
      ]
    },
    {
      "cell_type": "markdown",
      "source": [
        "## 2. Basis Python concepten\n",
        "Voor degenen die nog nooit Python code gezien hebben hier de korte basis Python voor Dummies:"
      ],
      "metadata": {
        "id": "OUMVSMvzjtnA"
      }
    },
    {
      "cell_type": "code",
      "source": [
        "# Variables - like containers that hold data\n",
        "my_name = \"Neural Network Student\"\n",
        "my_age = 25\n",
        "print(f\"Hello! I'm {my_name} and I'm {my_age} years old.\")\n",
        "\n",
        "# Lists - collections of items\n",
        "fruits = [\"apple\", \"banana\", \"orange\"]\n",
        "print(f\"My favorite fruits: {fruits}\")\n",
        "\n",
        "# Numpy arrays - like lists but for math\n",
        "numbers = np.array([1, 2, 3, 4, 5])\n",
        "print(f\"Numbers: {numbers}\")\n",
        "print(f\"Numbers squared: {numbers**2}\")\n",
        "\n",
        "# Dictionaries - store information with labels\n",
        "person = {\n",
        "    \"name\": \"Alice\",\n",
        "    \"age\": 30,\n",
        "    \"city\": \"New York\"\n",
        "}\n",
        "print(f\"Person info: {person}\")\n",
        "print(f\"Person name: {person['name']}\")"
      ],
      "metadata": {
        "colab": {
          "base_uri": "https://localhost:8080/"
        },
        "id": "AB6pXgvNjwsf",
        "outputId": "e2ab5184-0f30-450d-f07d-f107c1d84b06"
      },
      "execution_count": 10,
      "outputs": [
        {
          "output_type": "stream",
          "name": "stdout",
          "text": [
            "Hello! I'm Neural Network Student and I'm 25 years old.\n",
            "My favorite fruits: ['apple', 'banana', 'orange']\n",
            "Numbers: [1 2 3 4 5]\n",
            "Numbers squared: [ 1  4  9 16 25]\n",
            "Person info: {'name': 'Alice', 'age': 30, 'city': 'New York'}\n",
            "Person name: Alice\n"
          ]
        }
      ]
    }
  ]
}